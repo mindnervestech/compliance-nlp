{
 "cells": [
  {
   "cell_type": "code",
   "execution_count": 2,
   "metadata": {
    "colab": {
     "base_uri": "https://localhost:8080/",
     "height": 35
    },
    "colab_type": "code",
    "id": "3JDrASuRppn_",
    "outputId": "11a96132-422f-4bef-bd30-8724872ba2d0"
   },
   "outputs": [
    {
     "name": "stdout",
     "output_type": "stream",
     "text": [
      "Drive already mounted at /content/drive; to attempt to forcibly remount, call drive.mount(\"/content/drive\", force_remount=True).\n"
     ]
    }
   ],
   "source": [
    "from google.colab import drive\n",
    "drive.mount('/content/drive')"
   ]
  },
  {
   "cell_type": "code",
   "execution_count": 3,
   "metadata": {
    "colab": {
     "base_uri": "https://localhost:8080/",
     "height": 181
    },
    "colab_type": "code",
    "id": "ZTHonQXlqHc_",
    "outputId": "976c7e9d-4fe1-4803-fd1f-755fc5a501c0"
   },
   "outputs": [
    {
     "name": "stdout",
     "output_type": "stream",
     "text": [
      "Collecting PyPDF2\n",
      "\u001b[?25l  Downloading https://files.pythonhosted.org/packages/b4/01/68fcc0d43daf4c6bdbc6b33cc3f77bda531c86b174cac56ef0ffdb96faab/PyPDF2-1.26.0.tar.gz (77kB)\n",
      "\u001b[K    100% |████████████████████████████████| 81kB 4.9MB/s \n",
      "\u001b[?25hBuilding wheels for collected packages: PyPDF2\n",
      "  Building wheel for PyPDF2 (setup.py) ... \u001b[?25ldone\n",
      "\u001b[?25h  Stored in directory: /root/.cache/pip/wheels/53/84/19/35bc977c8bf5f0c23a8a011aa958acd4da4bbd7a229315c1b7\n",
      "Successfully built PyPDF2\n",
      "Installing collected packages: PyPDF2\n",
      "Successfully installed PyPDF2-1.26.0\n"
     ]
    }
   ],
   "source": [
    "!pip install PyPDF2"
   ]
  },
  {
   "cell_type": "code",
   "execution_count": 0,
   "metadata": {
    "colab": {},
    "colab_type": "code",
    "id": "p1qqAvGwprT_"
   },
   "outputs": [],
   "source": [
    "import numpy as np\n",
    "import pandas as pd\n",
    "import PyPDF2"
   ]
  },
  {
   "cell_type": "code",
   "execution_count": 0,
   "metadata": {
    "colab": {},
    "colab_type": "code",
    "id": "9I9sjBkTqELl"
   },
   "outputs": [],
   "source": [
    "path='drive/My Drive/Mayonnaise codex 168 - 1989.pdf'"
   ]
  },
  {
   "cell_type": "code",
   "execution_count": 0,
   "metadata": {
    "colab": {},
    "colab_type": "code",
    "id": "owYIEaffqfaR"
   },
   "outputs": [],
   "source": [
    "f = open(path,'rb')"
   ]
  },
  {
   "cell_type": "code",
   "execution_count": 0,
   "metadata": {
    "colab": {},
    "colab_type": "code",
    "id": "c1VdX-TxqnnL"
   },
   "outputs": [],
   "source": [
    "pdf_reader = PyPDF2.PdfFileReader(f)"
   ]
  },
  {
   "cell_type": "code",
   "execution_count": 0,
   "metadata": {
    "colab": {},
    "colab_type": "code",
    "id": "HxkpfNEhsF5b"
   },
   "outputs": [],
   "source": [
    "pdf_text = []\n",
    "for p in range(pdf_reader.numPages):\n",
    "    \n",
    "    page = pdf_reader.getPage(p)\n",
    "    \n",
    "    pdf_text.append(page.extractText())"
   ]
  },
  {
   "cell_type": "code",
   "execution_count": 9,
   "metadata": {
    "colab": {
     "base_uri": "https://localhost:8080/",
     "height": 146
    },
    "colab_type": "code",
    "id": "cOmlhiKiq68K",
    "outputId": "8066d914-747c-47d2-fddb-aaf4c317b83e"
   },
   "outputs": [
    {
     "data": {
      "text/plain": [
       "[\"CODEX STAN 168 Page 1 of 6    INTRODUCTION   The Regional European Standard for Mayonnaise was elaborated by the Codex Coordinating Committee for Europe and adopted by the Codex Alimentarius Commission at its 18th Session in 1989.  CODEX STANDARD FOR MAYONNAISE (Regional European Standard) CODEX STAN 168-1989   \\n1. SCOPE   This standard applies to mayonnaise, as defined in Section 2 below.  2. DESCRIPTION   Mayonnaise is a condiment sauce obtained by emulsifying edible vegetable oil(s) in an aqueous phase consisting of vinegar, the oil-in-water emulsion being produced by the hens' egg yolk.  Mayonnaise may contain optional ingredients in accordance with Section 3.3.   3. ESSENTIAL COMPOSITION AND QUALITY CRITERIA  3.1 Raw Materials  3.1.1 All ingredients shall be of sound quality and fit for human consumption.  Water shall be of potable quality.  3.1.2 Raw materials shall comply with the requirements of the relevant Codex standards and in particular the Codex Standards for Vinegar and Edible Vegetable Oils, and where appropriate, with the relevant sections of the Codes of Practice, in particular the Code of Hygienic Practice for \\nEgg Products (CAC/RCP 15-1976).  Raw materials shall be stored, treated and handled under suitable conditions so as to maintain their chemical and microbiological characteristics.  3.1.3 Eggs and egg products shall be hens' eggs or hens' egg products.  3.2 Compositional Requirements  3.2.1 Total fat content: not less than 78.5% m/m.  \",\n",
       " \"CODEX STAN 168 Page 2 of 6  3.2.2 Technically pure egg yolk1 content not less than 6% m/m.  3.3 Optional Ingredients   Food ingredients intended to influence significantly and in the desired fashion the physical and organoleptic characteristics of the product:   (a) hens' egg white  (b) hens' egg products  (c) sugars   (d) food grade salt  (e) condiments, spices, herbs  (f) fruits and vegetables including fruit juice and vegetable juice  (g) mustard  (h) dairy products  (i) water  4. FOOD ADDITIVES 2  4.1 Acidifying Agents         Maximum Level     4.1.1 Acetic acid and Na and K salts }  4.1.2 Citric acid and Na and K salts } Limited by GMP 4.1.3 Lactic acid and Na and K salts }  4.1.4 Malic acid and Na and K salts }  4.1.5 Tartaric acid and Na and K salts  5 g/kg  4.2 Antioxidants  4.2.1 Alpha-tocopherol and mixed concentrates of  240 mg/kg, singly or  tocopherols   in combination  4.2.2 Ascorbic acid   500 mg/kg 4.2.3 Butylated hydroxyanisole  140 mg/kg                                                  1  Technically pure means that 20% of albumen is tolerated related to the egg yolk.      2  Temporarily endorsed. \",\n",
       " \"CODEX STAN 168 Page 3 of 6  4.2.4 Butylated hydroxytoluene 1  60 mg/kg 4.2.5 Calcium disodium EDTA  75 mg/kg 4.2.6 Ascorbyl palmitate  500 mg/kg  4.3 Colours  4.3.1 Curcumin 1  }  4.3.2 Tartrazine  } 100 mg/kg, singly or  4.3.3 Sunset Yellow F.C.F. }  in combination in all 4.3.4 Beta-carotene (synthetic) } types of mayonnaise 4.3.5 Beta-Apo-carotenal } 4.3.6 Beta-Apo-8'-carotenoic acid }  4.3.7 Annatto extracts  10 mg/kg calculated as        bixin  4.3.8 Chlorophyll   500 mg/kg in mayonnaise        with herbs         Maximum Level  4.3.9 Caramel (ammonia type)  500 mg/kg in mayonnaise        with mustard  4.3.10 Beet red   500 mg/kg in mayonnaise        with tomato  4.4 Flavours   Natural or nature identical flavouring substances } Limited by GMP1  as defined for the purpose of the Codex  }  Alimentarius Commission }  4.5 Preservatives  4.5.1 Benzoic acid and Na and K salts } 1 g/kg singly or in 4.5.2 Sorbic acid and K salt } in combination                                                   1 Temporarily endorsed. \",\n",
       " 'CODEX STAN 168 Page 4 of 6  4.6 Stabilizers  4.6.1 Carrageenan  } 4.6.2 Sodium alginate } 4.6.3 Potassium alginate } 4.6.4 Propylene glycol alginate } 4.6.5 Locust bean gum (carob gum) }  4.6.6 Guar gum  } 1 g/kg, singly or 4.6.7 Sodium carboxy methyl cellulose } in combination 4.6.8 Xanthan gum  } 4.6.9 Tragacanth  } 4.6.10 Microcrystalline cellulose } 4.6.11 Pectins   } 4.6.12 Gum acacia  }  4.6.13 Chemically Modified Starches: acetylated distarch } 5 g/kg singly or  adipate, acetylated distarch phosphate, distarch } in combination  phosphate, hydroxpropyl phosphate }                   4.7 Enzyme Preparation  4.7.1 Glucose oxidase (Aspergillus niger var.)  Limited by GMP  4.8 Flavour Enhancers  4.8.1 Monosodium glutamate  5 g/kg in mayonnaise        with herbs  5. CONTAMINANTS        Maximum Level  5.1 Arsenic (As)   0.3 mg/kg  5.2 Lead (Pb)   0.3 mg/kg  5.3 Copper (Cu)   2.0 mg/kg  6. HYGIENE  6.1 To the extent possible in good manufacturing practice, the product shall be free from objectionable matter. ',\n",
       " 'CODEX STAN 168 Page 5 of 6   6.2 When tested by appropriate methods of sampling and examination, the product shall be:   (a) free from microorganisms which may represent a hazard to health;   (b) shall not contain any substances originating from microorganisms in amounts which may represent a hazard to health.  6.3 It is recommended that the products covered by the provisions of this Standard be prepared and handled in accordance with the Recommended International Code of Practice - General Principles of Food Hygiene (CAC/RCP 1-1969, Rev. 2, 1985, Codex Alimentarius Volume 1), and the Recommended Code of Hygienic Practice for Egg Products (CAC/RCP 15-1976).  7. PACKAGING   The product shall be packed in containers which ensure the hygienic quality and the other qualities of the food.  8. LABELLING   In addition to the provisions of the Codex General Standard for the Labelling of Prepackaged Foods (CODEX STAN 1-1985, Rev. 1-1991, Codex Alimentarius Volume 1), the following specific provisions apply:  8.1 The Name of the Food  8.1.1 Products complying with provisions of this Standard shall be designated mayonnaise.  8.1.2 Where an ingredient has been added which imparts a special or characteristic flavour to the product, this shall be indicated by an appropriate term in conjunction with or in close proximity to the name of the food.  8.2    Labelling of Non-Retail Containers   Information on the above labelling requirements shall be given either on the container or in accompanying documents, except that the name of the food, lot identification and the name and address of the manufacturer or packer shall appear on the container.   However, lot identification and the name and address of the manufacturer or packer may be replaced by an identification mark, provided that such a mark is clearly identifiable with the accompanying documents.  9. METHODS OF ANALYSIS AND SAMPLING ',\n",
       " 'CODEX STAN 168 Page 6 of 6   See Codex Alimentarius Volume 13. ']"
      ]
     },
     "execution_count": 9,
     "metadata": {
      "tags": []
     },
     "output_type": "execute_result"
    }
   ],
   "source": [
    "pdf_text"
   ]
  },
  {
   "cell_type": "code",
   "execution_count": 0,
   "metadata": {
    "colab": {},
    "colab_type": "code",
    "id": "gFoUCUaoq95O"
   },
   "outputs": [],
   "source": [
    "left_mod=[]\n",
    "for i in pdf_text:\n",
    "  left_mod.append(i.replace(\"\\n\", \"\"))"
   ]
  },
  {
   "cell_type": "code",
   "execution_count": 11,
   "metadata": {
    "colab": {
     "base_uri": "https://localhost:8080/",
     "height": 146
    },
    "colab_type": "code",
    "id": "nnHtiIG2s8Y3",
    "outputId": "5299c4af-f7fb-47b1-d03e-081ffff64126"
   },
   "outputs": [
    {
     "data": {
      "text/plain": [
       "[\"CODEX STAN 168 Page 1 of 6    INTRODUCTION   The Regional European Standard for Mayonnaise was elaborated by the Codex Coordinating Committee for Europe and adopted by the Codex Alimentarius Commission at its 18th Session in 1989.  CODEX STANDARD FOR MAYONNAISE (Regional European Standard) CODEX STAN 168-1989   1. SCOPE   This standard applies to mayonnaise, as defined in Section 2 below.  2. DESCRIPTION   Mayonnaise is a condiment sauce obtained by emulsifying edible vegetable oil(s) in an aqueous phase consisting of vinegar, the oil-in-water emulsion being produced by the hens' egg yolk.  Mayonnaise may contain optional ingredients in accordance with Section 3.3.   3. ESSENTIAL COMPOSITION AND QUALITY CRITERIA  3.1 Raw Materials  3.1.1 All ingredients shall be of sound quality and fit for human consumption.  Water shall be of potable quality.  3.1.2 Raw materials shall comply with the requirements of the relevant Codex standards and in particular the Codex Standards for Vinegar and Edible Vegetable Oils, and where appropriate, with the relevant sections of the Codes of Practice, in particular the Code of Hygienic Practice for Egg Products (CAC/RCP 15-1976).  Raw materials shall be stored, treated and handled under suitable conditions so as to maintain their chemical and microbiological characteristics.  3.1.3 Eggs and egg products shall be hens' eggs or hens' egg products.  3.2 Compositional Requirements  3.2.1 Total fat content: not less than 78.5% m/m.  \",\n",
       " \"CODEX STAN 168 Page 2 of 6  3.2.2 Technically pure egg yolk1 content not less than 6% m/m.  3.3 Optional Ingredients   Food ingredients intended to influence significantly and in the desired fashion the physical and organoleptic characteristics of the product:   (a) hens' egg white  (b) hens' egg products  (c) sugars   (d) food grade salt  (e) condiments, spices, herbs  (f) fruits and vegetables including fruit juice and vegetable juice  (g) mustard  (h) dairy products  (i) water  4. FOOD ADDITIVES 2  4.1 Acidifying Agents         Maximum Level     4.1.1 Acetic acid and Na and K salts }  4.1.2 Citric acid and Na and K salts } Limited by GMP 4.1.3 Lactic acid and Na and K salts }  4.1.4 Malic acid and Na and K salts }  4.1.5 Tartaric acid and Na and K salts  5 g/kg  4.2 Antioxidants  4.2.1 Alpha-tocopherol and mixed concentrates of  240 mg/kg, singly or  tocopherols   in combination  4.2.2 Ascorbic acid   500 mg/kg 4.2.3 Butylated hydroxyanisole  140 mg/kg                                                  1  Technically pure means that 20% of albumen is tolerated related to the egg yolk.      2  Temporarily endorsed. \",\n",
       " \"CODEX STAN 168 Page 3 of 6  4.2.4 Butylated hydroxytoluene 1  60 mg/kg 4.2.5 Calcium disodium EDTA  75 mg/kg 4.2.6 Ascorbyl palmitate  500 mg/kg  4.3 Colours  4.3.1 Curcumin 1  }  4.3.2 Tartrazine  } 100 mg/kg, singly or  4.3.3 Sunset Yellow F.C.F. }  in combination in all 4.3.4 Beta-carotene (synthetic) } types of mayonnaise 4.3.5 Beta-Apo-carotenal } 4.3.6 Beta-Apo-8'-carotenoic acid }  4.3.7 Annatto extracts  10 mg/kg calculated as        bixin  4.3.8 Chlorophyll   500 mg/kg in mayonnaise        with herbs         Maximum Level  4.3.9 Caramel (ammonia type)  500 mg/kg in mayonnaise        with mustard  4.3.10 Beet red   500 mg/kg in mayonnaise        with tomato  4.4 Flavours   Natural or nature identical flavouring substances } Limited by GMP1  as defined for the purpose of the Codex  }  Alimentarius Commission }  4.5 Preservatives  4.5.1 Benzoic acid and Na and K salts } 1 g/kg singly or in 4.5.2 Sorbic acid and K salt } in combination                                                   1 Temporarily endorsed. \",\n",
       " 'CODEX STAN 168 Page 4 of 6  4.6 Stabilizers  4.6.1 Carrageenan  } 4.6.2 Sodium alginate } 4.6.3 Potassium alginate } 4.6.4 Propylene glycol alginate } 4.6.5 Locust bean gum (carob gum) }  4.6.6 Guar gum  } 1 g/kg, singly or 4.6.7 Sodium carboxy methyl cellulose } in combination 4.6.8 Xanthan gum  } 4.6.9 Tragacanth  } 4.6.10 Microcrystalline cellulose } 4.6.11 Pectins   } 4.6.12 Gum acacia  }  4.6.13 Chemically Modified Starches: acetylated distarch } 5 g/kg singly or  adipate, acetylated distarch phosphate, distarch } in combination  phosphate, hydroxpropyl phosphate }                   4.7 Enzyme Preparation  4.7.1 Glucose oxidase (Aspergillus niger var.)  Limited by GMP  4.8 Flavour Enhancers  4.8.1 Monosodium glutamate  5 g/kg in mayonnaise        with herbs  5. CONTAMINANTS        Maximum Level  5.1 Arsenic (As)   0.3 mg/kg  5.2 Lead (Pb)   0.3 mg/kg  5.3 Copper (Cu)   2.0 mg/kg  6. HYGIENE  6.1 To the extent possible in good manufacturing practice, the product shall be free from objectionable matter. ',\n",
       " 'CODEX STAN 168 Page 5 of 6   6.2 When tested by appropriate methods of sampling and examination, the product shall be:   (a) free from microorganisms which may represent a hazard to health;   (b) shall not contain any substances originating from microorganisms in amounts which may represent a hazard to health.  6.3 It is recommended that the products covered by the provisions of this Standard be prepared and handled in accordance with the Recommended International Code of Practice - General Principles of Food Hygiene (CAC/RCP 1-1969, Rev. 2, 1985, Codex Alimentarius Volume 1), and the Recommended Code of Hygienic Practice for Egg Products (CAC/RCP 15-1976).  7. PACKAGING   The product shall be packed in containers which ensure the hygienic quality and the other qualities of the food.  8. LABELLING   In addition to the provisions of the Codex General Standard for the Labelling of Prepackaged Foods (CODEX STAN 1-1985, Rev. 1-1991, Codex Alimentarius Volume 1), the following specific provisions apply:  8.1 The Name of the Food  8.1.1 Products complying with provisions of this Standard shall be designated mayonnaise.  8.1.2 Where an ingredient has been added which imparts a special or characteristic flavour to the product, this shall be indicated by an appropriate term in conjunction with or in close proximity to the name of the food.  8.2    Labelling of Non-Retail Containers   Information on the above labelling requirements shall be given either on the container or in accompanying documents, except that the name of the food, lot identification and the name and address of the manufacturer or packer shall appear on the container.   However, lot identification and the name and address of the manufacturer or packer may be replaced by an identification mark, provided that such a mark is clearly identifiable with the accompanying documents.  9. METHODS OF ANALYSIS AND SAMPLING ',\n",
       " 'CODEX STAN 168 Page 6 of 6   See Codex Alimentarius Volume 13. ']"
      ]
     },
     "execution_count": 11,
     "metadata": {
      "tags": []
     },
     "output_type": "execute_result"
    }
   ],
   "source": [
    "left_mod"
   ]
  },
  {
   "cell_type": "code",
   "execution_count": 0,
   "metadata": {
    "colab": {},
    "colab_type": "code",
    "id": "40HA6HlntPvB"
   },
   "outputs": [],
   "source": [
    "from nltk.tokenize import sent_tokenize, word_tokenize"
   ]
  },
  {
   "cell_type": "code",
   "execution_count": 0,
   "metadata": {
    "colab": {},
    "colab_type": "code",
    "id": "YSCjQ2n2uoD3"
   },
   "outputs": [],
   "source": [
    "import re"
   ]
  },
  {
   "cell_type": "code",
   "execution_count": 0,
   "metadata": {
    "colab": {},
    "colab_type": "code",
    "id": "p7d5v5C9uNNv"
   },
   "outputs": [],
   "source": [
    "simplified=[]\n",
    "for i in left_mod:\n",
    "  results=re.search(r'CODEX STAN \\d{3} Page \\d of \\d',i)\n",
    "  r=results.group()\n",
    "  simplified.append(i.replace(r,\"\"))"
   ]
  },
  {
   "cell_type": "code",
   "execution_count": 15,
   "metadata": {
    "colab": {
     "base_uri": "https://localhost:8080/",
     "height": 146
    },
    "colab_type": "code",
    "id": "x5lPXF_qDWG7",
    "outputId": "677799bc-24f1-4572-9c6e-0969844cc593"
   },
   "outputs": [
    {
     "data": {
      "text/plain": [
       "[\"    INTRODUCTION   The Regional European Standard for Mayonnaise was elaborated by the Codex Coordinating Committee for Europe and adopted by the Codex Alimentarius Commission at its 18th Session in 1989.  CODEX STANDARD FOR MAYONNAISE (Regional European Standard) CODEX STAN 168-1989   1. SCOPE   This standard applies to mayonnaise, as defined in Section 2 below.  2. DESCRIPTION   Mayonnaise is a condiment sauce obtained by emulsifying edible vegetable oil(s) in an aqueous phase consisting of vinegar, the oil-in-water emulsion being produced by the hens' egg yolk.  Mayonnaise may contain optional ingredients in accordance with Section 3.3.   3. ESSENTIAL COMPOSITION AND QUALITY CRITERIA  3.1 Raw Materials  3.1.1 All ingredients shall be of sound quality and fit for human consumption.  Water shall be of potable quality.  3.1.2 Raw materials shall comply with the requirements of the relevant Codex standards and in particular the Codex Standards for Vinegar and Edible Vegetable Oils, and where appropriate, with the relevant sections of the Codes of Practice, in particular the Code of Hygienic Practice for Egg Products (CAC/RCP 15-1976).  Raw materials shall be stored, treated and handled under suitable conditions so as to maintain their chemical and microbiological characteristics.  3.1.3 Eggs and egg products shall be hens' eggs or hens' egg products.  3.2 Compositional Requirements  3.2.1 Total fat content: not less than 78.5% m/m.  \",\n",
       " \"  3.2.2 Technically pure egg yolk1 content not less than 6% m/m.  3.3 Optional Ingredients   Food ingredients intended to influence significantly and in the desired fashion the physical and organoleptic characteristics of the product:   (a) hens' egg white  (b) hens' egg products  (c) sugars   (d) food grade salt  (e) condiments, spices, herbs  (f) fruits and vegetables including fruit juice and vegetable juice  (g) mustard  (h) dairy products  (i) water  4. FOOD ADDITIVES 2  4.1 Acidifying Agents         Maximum Level     4.1.1 Acetic acid and Na and K salts }  4.1.2 Citric acid and Na and K salts } Limited by GMP 4.1.3 Lactic acid and Na and K salts }  4.1.4 Malic acid and Na and K salts }  4.1.5 Tartaric acid and Na and K salts  5 g/kg  4.2 Antioxidants  4.2.1 Alpha-tocopherol and mixed concentrates of  240 mg/kg, singly or  tocopherols   in combination  4.2.2 Ascorbic acid   500 mg/kg 4.2.3 Butylated hydroxyanisole  140 mg/kg                                                  1  Technically pure means that 20% of albumen is tolerated related to the egg yolk.      2  Temporarily endorsed. \",\n",
       " \"  4.2.4 Butylated hydroxytoluene 1  60 mg/kg 4.2.5 Calcium disodium EDTA  75 mg/kg 4.2.6 Ascorbyl palmitate  500 mg/kg  4.3 Colours  4.3.1 Curcumin 1  }  4.3.2 Tartrazine  } 100 mg/kg, singly or  4.3.3 Sunset Yellow F.C.F. }  in combination in all 4.3.4 Beta-carotene (synthetic) } types of mayonnaise 4.3.5 Beta-Apo-carotenal } 4.3.6 Beta-Apo-8'-carotenoic acid }  4.3.7 Annatto extracts  10 mg/kg calculated as        bixin  4.3.8 Chlorophyll   500 mg/kg in mayonnaise        with herbs         Maximum Level  4.3.9 Caramel (ammonia type)  500 mg/kg in mayonnaise        with mustard  4.3.10 Beet red   500 mg/kg in mayonnaise        with tomato  4.4 Flavours   Natural or nature identical flavouring substances } Limited by GMP1  as defined for the purpose of the Codex  }  Alimentarius Commission }  4.5 Preservatives  4.5.1 Benzoic acid and Na and K salts } 1 g/kg singly or in 4.5.2 Sorbic acid and K salt } in combination                                                   1 Temporarily endorsed. \",\n",
       " '  4.6 Stabilizers  4.6.1 Carrageenan  } 4.6.2 Sodium alginate } 4.6.3 Potassium alginate } 4.6.4 Propylene glycol alginate } 4.6.5 Locust bean gum (carob gum) }  4.6.6 Guar gum  } 1 g/kg, singly or 4.6.7 Sodium carboxy methyl cellulose } in combination 4.6.8 Xanthan gum  } 4.6.9 Tragacanth  } 4.6.10 Microcrystalline cellulose } 4.6.11 Pectins   } 4.6.12 Gum acacia  }  4.6.13 Chemically Modified Starches: acetylated distarch } 5 g/kg singly or  adipate, acetylated distarch phosphate, distarch } in combination  phosphate, hydroxpropyl phosphate }                   4.7 Enzyme Preparation  4.7.1 Glucose oxidase (Aspergillus niger var.)  Limited by GMP  4.8 Flavour Enhancers  4.8.1 Monosodium glutamate  5 g/kg in mayonnaise        with herbs  5. CONTAMINANTS        Maximum Level  5.1 Arsenic (As)   0.3 mg/kg  5.2 Lead (Pb)   0.3 mg/kg  5.3 Copper (Cu)   2.0 mg/kg  6. HYGIENE  6.1 To the extent possible in good manufacturing practice, the product shall be free from objectionable matter. ',\n",
       " '   6.2 When tested by appropriate methods of sampling and examination, the product shall be:   (a) free from microorganisms which may represent a hazard to health;   (b) shall not contain any substances originating from microorganisms in amounts which may represent a hazard to health.  6.3 It is recommended that the products covered by the provisions of this Standard be prepared and handled in accordance with the Recommended International Code of Practice - General Principles of Food Hygiene (CAC/RCP 1-1969, Rev. 2, 1985, Codex Alimentarius Volume 1), and the Recommended Code of Hygienic Practice for Egg Products (CAC/RCP 15-1976).  7. PACKAGING   The product shall be packed in containers which ensure the hygienic quality and the other qualities of the food.  8. LABELLING   In addition to the provisions of the Codex General Standard for the Labelling of Prepackaged Foods (CODEX STAN 1-1985, Rev. 1-1991, Codex Alimentarius Volume 1), the following specific provisions apply:  8.1 The Name of the Food  8.1.1 Products complying with provisions of this Standard shall be designated mayonnaise.  8.1.2 Where an ingredient has been added which imparts a special or characteristic flavour to the product, this shall be indicated by an appropriate term in conjunction with or in close proximity to the name of the food.  8.2    Labelling of Non-Retail Containers   Information on the above labelling requirements shall be given either on the container or in accompanying documents, except that the name of the food, lot identification and the name and address of the manufacturer or packer shall appear on the container.   However, lot identification and the name and address of the manufacturer or packer may be replaced by an identification mark, provided that such a mark is clearly identifiable with the accompanying documents.  9. METHODS OF ANALYSIS AND SAMPLING ',\n",
       " '   See Codex Alimentarius Volume 13. ']"
      ]
     },
     "execution_count": 15,
     "metadata": {
      "tags": []
     },
     "output_type": "execute_result"
    }
   ],
   "source": [
    "simplified"
   ]
  },
  {
   "cell_type": "code",
   "execution_count": 0,
   "metadata": {
    "colab": {},
    "colab_type": "code",
    "id": "htKaiZervzOk"
   },
   "outputs": [],
   "source": [
    "for i in range(len(simplified)):\n",
    "  simplified[i]=simplified[i].lstrip()"
   ]
  },
  {
   "cell_type": "code",
   "execution_count": 0,
   "metadata": {
    "colab": {},
    "colab_type": "code",
    "id": "Xt2bpPrsv1L-"
   },
   "outputs": [],
   "source": [
    "for i in range(len(simplified)):\n",
    "  simplified[i]=simplified[i].rstrip()"
   ]
  },
  {
   "cell_type": "code",
   "execution_count": 18,
   "metadata": {
    "colab": {
     "base_uri": "https://localhost:8080/",
     "height": 598
    },
    "colab_type": "code",
    "id": "gN4rSEPCyNR3",
    "outputId": "fa768d67-1ede-4ce7-9444-90e93d5f73e2"
   },
   "outputs": [
    {
     "name": "stdout",
     "output_type": "stream",
     "text": [
      "NLTK Downloader\n",
      "---------------------------------------------------------------------------\n",
      "    d) Download   l) List    u) Update   c) Config   h) Help   q) Quit\n",
      "---------------------------------------------------------------------------\n",
      "Downloader> d\n",
      "\n",
      "Download which package (l=list; x=cancel)?\n",
      "  Identifier> punkt\n",
      "    Downloading package punkt to /root/nltk_data...\n",
      "      Unzipping tokenizers/punkt.zip.\n",
      "\n",
      "---------------------------------------------------------------------------\n",
      "    d) Download   l) List    u) Update   c) Config   h) Help   q) Quit\n",
      "---------------------------------------------------------------------------\n",
      "Downloader> stopwords\n",
      "Command 'stopwords' unrecognized\n",
      "\n",
      "---------------------------------------------------------------------------\n",
      "    d) Download   l) List    u) Update   c) Config   h) Help   q) Quit\n",
      "---------------------------------------------------------------------------\n",
      "Downloader> d\n",
      "\n",
      "Download which package (l=list; x=cancel)?\n",
      "  Identifier> stopwords\n",
      "    Downloading package stopwords to /root/nltk_data...\n",
      "      Unzipping corpora/stopwords.zip.\n",
      "\n",
      "---------------------------------------------------------------------------\n",
      "    d) Download   l) List    u) Update   c) Config   h) Help   q) Quit\n",
      "---------------------------------------------------------------------------\n",
      "Downloader> q\n"
     ]
    },
    {
     "data": {
      "text/plain": [
       "True"
      ]
     },
     "execution_count": 18,
     "metadata": {
      "tags": []
     },
     "output_type": "execute_result"
    }
   ],
   "source": [
    "import nltk # Imports the library\n",
    "nltk.download()"
   ]
  },
  {
   "cell_type": "code",
   "execution_count": 0,
   "metadata": {
    "colab": {},
    "colab_type": "code",
    "id": "w3eAFuXEx6Sk"
   },
   "outputs": [],
   "source": [
    "from nltk.corpus import stopwords"
   ]
  },
  {
   "cell_type": "code",
   "execution_count": 0,
   "metadata": {
    "colab": {},
    "colab_type": "code",
    "id": "rj3rgq4DwsWY"
   },
   "outputs": [],
   "source": [
    "def text_process(mess):\n",
    "    \"\"\"\n",
    "    Takes in a string of text, then performs the following:\n",
    "    1. Remove all punctuation\n",
    "    2. Remove all stopwords\n",
    "    3. Returns  the cleaned text\n",
    "    \"\"\"\n",
    "    # Check characters to see if they are in punctuation\n",
    "    nopunc = [char for char in mess if char not in '!#$%&\\'()*+,/;<=>?@[\\\\]^_`{|}~']\n",
    "\n",
    "    # Join the characters again to form the string.\n",
    "    #nopunc = ''.join(nopunc)\n",
    "    \n",
    "    # Now just remove any stopwords\n",
    "    #nostop = [word for word in nopunc.split() if word.lower() not in stopwords.words('english')]\n",
    "    \n",
    "    return(''.join(nopunc))"
   ]
  },
  {
   "cell_type": "code",
   "execution_count": 0,
   "metadata": {
    "colab": {},
    "colab_type": "code",
    "id": "R31IoIg0y5oQ"
   },
   "outputs": [],
   "source": [
    "clean_text=\"\"\n",
    "for i in simplified:\n",
    "  clean_text=clean_text+text_process(i)"
   ]
  },
  {
   "cell_type": "code",
   "execution_count": 0,
   "metadata": {
    "colab": {},
    "colab_type": "code",
    "id": "D9zrluWjHl-i"
   },
   "outputs": [],
   "source": [
    "clean_text=re.sub(' +', ' ',clean_text)"
   ]
  },
  {
   "cell_type": "code",
   "execution_count": 0,
   "metadata": {
    "colab": {},
    "colab_type": "code",
    "id": "27ni6YVyIDu7"
   },
   "outputs": [],
   "source": [
    "clean_text=re.sub('\\d.','',clean_text)"
   ]
  },
  {
   "cell_type": "code",
   "execution_count": 53,
   "metadata": {
    "colab": {
     "base_uri": "https://localhost:8080/",
     "height": 55
    },
    "colab_type": "code",
    "id": "K_YX4ETsHDLj",
    "outputId": "5f766822-2c20-4427-cc9b-d2e2a5483777"
   },
   "outputs": [
    {
     "data": {
      "text/plain": [
       "'INTRODUCTION The Regional European Standard for Mayonnaise was elaborated by the Codex Coordinating Committee for Europe and adopted by the Codex Alimentarius Commission at its th Session in . CODEX STANDARD FOR MAYONNAISE Regional European Standard CODEX STAN   SCOPE This standard applies to mayonnaise as defined in Section below.  DESCRIPTION Mayonnaise is a condiment sauce obtained by emulsifying edible vegetable oils in an aqueous phase consisting of vinegar the oil-in-water emulsion being produced by the hens egg yolk. Mayonnaise may contain optional ingredients in accordance with Section   ESSENTIAL COMPOSITION AND QUALITY CRITERIA Raw Materials All ingredients shall be of sound quality and fit for human consumption. Water shall be of potable quality. Raw materials shall comply with the requirements of the relevant Codex standards and in particular the Codex Standards for Vinegar and Edible Vegetable Oils and where appropriate with the relevant sections of the Codes of Practice in particular the Code of Hygienic Practice for Egg Products CACRCP -. Raw materials shall be stored treated and handled under suitable conditions so as to maintain their chemical and microbiological characteristics. Eggs and egg products shall be hens eggs or hens egg products. Compositional Requirements Total fat content: not less than .mm.Technically pure egg yolkcontent not less than mm. Optional Ingredients Food ingredients intended to influence significantly and in the desired fashion the physical and organoleptic characteristics of the product: a hens egg white b hens egg products c sugars d food grade salt e condiments spices herbs f fruits and vegetables including fruit juice and vegetable juice g mustard h dairy products i water  FOOD ADDITIVES Acidifying Agents Maximum Level Acetic acid and Na and K salts Citric acid and Na and K salts Limited by GMP Lactic acid and Na and K salts Malic acid and Na and K salts Tartaric acid and Na and K salts gkg Antioxidants Alpha-tocopherol and mixed concentrates of mgkg singly or tocopherols in combination Ascorbic acid mgkg Butylated hydroxyanisole mgkg Technically pure means that  of albumen is tolerated related to the egg yolk. Temporarily endorsed.Butylated hydroxytoluene  mgkg Calcium disodium EDTA  mgkg Ascorbyl palmitate mgkg Colours Curcumin Tartrazine mgkg singly or Sunset Yellow F.C.F. in combination in all Beta-carotene synthetic types of mayonnaise Beta-Apo-carotenal Beta-Apo-carotenoic acid Annatto extracts  mgkg calculated as bixin Chlorophyll mgkg in mayonnaise with herbs Maximum Level Caramel ammonia type mgkg in mayonnaise with mustard  Beet red mgkg in mayonnaise with tomato Flavours Natural or nature identical flavouring substances Limited by GMPas defined for the purpose of the Codex Alimentarius Commission Preservatives Benzoic acid and Na and K salts gkg singly or in Sorbic acid and K salt in combination Temporarily endorsed.Stabilizers Carrageenan Sodium alginate Potassium alginate Propylene glycol alginate Locust bean gum carob gum Guar gum gkg singly or Sodium carboxy methyl cellulose in combination Xanthan gum Tragacanth  Microcrystalline cellulose  Pectins  Gum acacia  Chemically Modified Starches: acetylated distarch gkg singly or adipate acetylated distarch phosphate distarch in combination phosphate hydroxpropyl phosphate Enzyme Preparation Glucose oxidase Aspergillus niger var. Limited by GMP Flavour Enhancers Monosodium glutamate gkg in mayonnaise with herbs  CONTAMINANTS Maximum Level Arsenic As mgkg Lead Pb mgkg Copper Cu mgkg  HYGIENE To the extent possible in good manufacturing practice the product shall be free from objectionable matter.When tested by appropriate methods of sampling and examination the product shall be: a free from microorganisms which may represent a hazard to health b shall not contain any substances originating from microorganisms in amounts which may represent a hazard to health. It is recommended that the products covered by the provisions of this Standard be prepared and handled in accordance with the Recommended International Code of Practice - General Principles of Food Hygiene CACRCP  Rev.  Codex Alimentarius Volume and the Recommended Code of Hygienic Practice for Egg Products CACRCP -.  PACKAGING The product shall be packed in containers which ensure the hygienic quality and the other qualities of the food.  LABELLING In addition to the provisions of the Codex General Standard for the Labelling of Prepackaged Foods CODEX STAN  Rev.  Codex Alimentarius Volume the following specific provisions apply: The Name of the Food Products complying with provisions of this Standard shall be designated mayonnaise. Where an ingredient has been added which imparts a special or characteristic flavour to the product this shall be indicated by an appropriate term in conjunction with or in close proximity to the name of the food. Labelling of Non-Retail Containers Information on the above labelling requirements shall be given either on the container or in accompanying documents except that the name of the food lot identification and the name and address of the manufacturer or packer shall appear on the container. However lot identification and the name and address of the manufacturer or packer may be replaced by an identification mark provided that such a mark is clearly identifiable with the accompanying documents.  METHODS OF ANALYSIS AND SAMPLINGSee Codex Alimentarius Volume .'"
      ]
     },
     "execution_count": 53,
     "metadata": {
      "tags": []
     },
     "output_type": "execute_result"
    }
   ],
   "source": [
    "clean_text"
   ]
  },
  {
   "cell_type": "code",
   "execution_count": 0,
   "metadata": {
    "colab": {},
    "colab_type": "code",
    "id": "4HPyYqCl0bVA"
   },
   "outputs": [],
   "source": [
    "data = []   \n",
    "# iterate through each sentence in the file \n",
    "for i in sent_tokenize(clean_text): \n",
    "  data.append(i)"
   ]
  },
  {
   "cell_type": "code",
   "execution_count": 55,
   "metadata": {
    "colab": {
     "base_uri": "https://localhost:8080/",
     "height": 437
    },
    "colab_type": "code",
    "id": "JrPBgU0d2zXU",
    "outputId": "be23eded-a2d2-47de-e112-5d6c2a8ee92f"
   },
   "outputs": [
    {
     "data": {
      "text/plain": [
       "['INTRODUCTION The Regional European Standard for Mayonnaise was elaborated by the Codex Coordinating Committee for Europe and adopted by the Codex Alimentarius Commission at its th Session in .',\n",
       " 'CODEX STANDARD FOR MAYONNAISE Regional European Standard CODEX STAN   SCOPE This standard applies to mayonnaise as defined in Section below.',\n",
       " 'DESCRIPTION Mayonnaise is a condiment sauce obtained by emulsifying edible vegetable oils in an aqueous phase consisting of vinegar the oil-in-water emulsion being produced by the hens egg yolk.',\n",
       " 'Mayonnaise may contain optional ingredients in accordance with Section   ESSENTIAL COMPOSITION AND QUALITY CRITERIA Raw Materials All ingredients shall be of sound quality and fit for human consumption.',\n",
       " 'Water shall be of potable quality.',\n",
       " 'Raw materials shall comply with the requirements of the relevant Codex standards and in particular the Codex Standards for Vinegar and Edible Vegetable Oils and where appropriate with the relevant sections of the Codes of Practice in particular the Code of Hygienic Practice for Egg Products CACRCP -.',\n",
       " 'Raw materials shall be stored treated and handled under suitable conditions so as to maintain their chemical and microbiological characteristics.',\n",
       " 'Eggs and egg products shall be hens eggs or hens egg products.',\n",
       " 'Compositional Requirements Total fat content: not less than .mm.Technically pure egg yolkcontent not less than mm.',\n",
       " 'Optional Ingredients Food ingredients intended to influence significantly and in the desired fashion the physical and organoleptic characteristics of the product: a hens egg white b hens egg products c sugars d food grade salt e condiments spices herbs f fruits and vegetables including fruit juice and vegetable juice g mustard h dairy products i water  FOOD ADDITIVES Acidifying Agents Maximum Level Acetic acid and Na and K salts Citric acid and Na and K salts Limited by GMP Lactic acid and Na and K salts Malic acid and Na and K salts Tartaric acid and Na and K salts gkg Antioxidants Alpha-tocopherol and mixed concentrates of mgkg singly or tocopherols in combination Ascorbic acid mgkg Butylated hydroxyanisole mgkg Technically pure means that  of albumen is tolerated related to the egg yolk.',\n",
       " 'Temporarily endorsed.Butylated hydroxytoluene  mgkg Calcium disodium EDTA  mgkg Ascorbyl palmitate mgkg Colours Curcumin Tartrazine mgkg singly or Sunset Yellow F.C.F.',\n",
       " 'in combination in all Beta-carotene synthetic types of mayonnaise Beta-Apo-carotenal Beta-Apo-carotenoic acid Annatto extracts  mgkg calculated as bixin Chlorophyll mgkg in mayonnaise with herbs Maximum Level Caramel ammonia type mgkg in mayonnaise with mustard  Beet red mgkg in mayonnaise with tomato Flavours Natural or nature identical flavouring substances Limited by GMPas defined for the purpose of the Codex Alimentarius Commission Preservatives Benzoic acid and Na and K salts gkg singly or in Sorbic acid and K salt in combination Temporarily endorsed.Stabilizers Carrageenan Sodium alginate Potassium alginate Propylene glycol alginate Locust bean gum carob gum Guar gum gkg singly or Sodium carboxy methyl cellulose in combination Xanthan gum Tragacanth  Microcrystalline cellulose  Pectins  Gum acacia  Chemically Modified Starches: acetylated distarch gkg singly or adipate acetylated distarch phosphate distarch in combination phosphate hydroxpropyl phosphate Enzyme Preparation Glucose oxidase Aspergillus niger var.',\n",
       " 'Limited by GMP Flavour Enhancers Monosodium glutamate gkg in mayonnaise with herbs  CONTAMINANTS Maximum Level Arsenic As mgkg Lead Pb mgkg Copper Cu mgkg  HYGIENE To the extent possible in good manufacturing practice the product shall be free from objectionable matter.When tested by appropriate methods of sampling and examination the product shall be: a free from microorganisms which may represent a hazard to health b shall not contain any substances originating from microorganisms in amounts which may represent a hazard to health.',\n",
       " 'It is recommended that the products covered by the provisions of this Standard be prepared and handled in accordance with the Recommended International Code of Practice - General Principles of Food Hygiene CACRCP  Rev.',\n",
       " 'Codex Alimentarius Volume and the Recommended Code of Hygienic Practice for Egg Products CACRCP -.',\n",
       " 'PACKAGING The product shall be packed in containers which ensure the hygienic quality and the other qualities of the food.',\n",
       " 'LABELLING In addition to the provisions of the Codex General Standard for the Labelling of Prepackaged Foods CODEX STAN  Rev.',\n",
       " 'Codex Alimentarius Volume the following specific provisions apply: The Name of the Food Products complying with provisions of this Standard shall be designated mayonnaise.',\n",
       " 'Where an ingredient has been added which imparts a special or characteristic flavour to the product this shall be indicated by an appropriate term in conjunction with or in close proximity to the name of the food.',\n",
       " 'Labelling of Non-Retail Containers Information on the above labelling requirements shall be given either on the container or in accompanying documents except that the name of the food lot identification and the name and address of the manufacturer or packer shall appear on the container.',\n",
       " 'However lot identification and the name and address of the manufacturer or packer may be replaced by an identification mark provided that such a mark is clearly identifiable with the accompanying documents.',\n",
       " 'METHODS OF ANALYSIS AND SAMPLINGSee Codex Alimentarius Volume .']"
      ]
     },
     "execution_count": 55,
     "metadata": {
      "tags": []
     },
     "output_type": "execute_result"
    }
   ],
   "source": [
    "data"
   ]
  },
  {
   "cell_type": "code",
   "execution_count": 0,
   "metadata": {
    "colab": {},
    "colab_type": "code",
    "id": "7fkrkaCE3g96"
   },
   "outputs": [],
   "source": [
    "df=pd.DataFrame(data=data,columns=['text'])"
   ]
  },
  {
   "cell_type": "code",
   "execution_count": 0,
   "metadata": {
    "colab": {},
    "colab_type": "code",
    "id": "qUBQjgLq4BaN"
   },
   "outputs": [],
   "source": [
    "from sklearn.feature_extraction.text import CountVectorizer"
   ]
  },
  {
   "cell_type": "code",
   "execution_count": 0,
   "metadata": {
    "colab": {},
    "colab_type": "code",
    "id": "-wB_wS-O4CiP"
   },
   "outputs": [],
   "source": [
    "cv = CountVectorizer(max_df=0.95, min_df=2, stop_words='english')"
   ]
  },
  {
   "cell_type": "code",
   "execution_count": 0,
   "metadata": {
    "colab": {},
    "colab_type": "code",
    "id": "s8tmtO9U4Q1h"
   },
   "outputs": [],
   "source": [
    "dtm = cv.fit_transform(df['text'])"
   ]
  },
  {
   "cell_type": "code",
   "execution_count": 0,
   "metadata": {
    "colab": {},
    "colab_type": "code",
    "id": "B69RzLxC4aUT"
   },
   "outputs": [],
   "source": [
    "from sklearn.decomposition import LatentDirichletAllocation"
   ]
  },
  {
   "cell_type": "code",
   "execution_count": 0,
   "metadata": {
    "colab": {},
    "colab_type": "code",
    "id": "NkTrobaY4d_X"
   },
   "outputs": [],
   "source": [
    "LDA = LatentDirichletAllocation(n_components=2,random_state=42)"
   ]
  },
  {
   "cell_type": "code",
   "execution_count": 62,
   "metadata": {
    "colab": {
     "base_uri": "https://localhost:8080/",
     "height": 144
    },
    "colab_type": "code",
    "id": "HrvinYlT4j6j",
    "outputId": "7ed26ad8-8aea-4327-f350-03219a5c45cb"
   },
   "outputs": [
    {
     "data": {
      "text/plain": [
       "LatentDirichletAllocation(batch_size=128, doc_topic_prior=None,\n",
       "             evaluate_every=-1, learning_decay=0.7,\n",
       "             learning_method='batch', learning_offset=10.0,\n",
       "             max_doc_update_iter=100, max_iter=10, mean_change_tol=0.001,\n",
       "             n_components=2, n_jobs=None, n_topics=None, perp_tol=0.1,\n",
       "             random_state=42, topic_word_prior=None,\n",
       "             total_samples=1000000.0, verbose=0)"
      ]
     },
     "execution_count": 62,
     "metadata": {
      "tags": []
     },
     "output_type": "execute_result"
    }
   ],
   "source": [
    "LDA.fit(dtm)"
   ]
  },
  {
   "cell_type": "code",
   "execution_count": 63,
   "metadata": {
    "colab": {
     "base_uri": "https://localhost:8080/",
     "height": 35
    },
    "colab_type": "code",
    "id": "N8mTVuZS4nd0",
    "outputId": "c3ef73c3-775f-417d-8b82-7597989dd29f"
   },
   "outputs": [
    {
     "data": {
      "text/plain": [
       "74"
      ]
     },
     "execution_count": 63,
     "metadata": {
      "tags": []
     },
     "output_type": "execute_result"
    }
   ],
   "source": [
    "len(cv.get_feature_names())"
   ]
  },
  {
   "cell_type": "code",
   "execution_count": 64,
   "metadata": {
    "colab": {
     "base_uri": "https://localhost:8080/",
     "height": 35
    },
    "colab_type": "code",
    "id": "AaEiNiPG4uBy",
    "outputId": "b029c372-643c-453c-da37-eeeba9c38df4"
   },
   "outputs": [
    {
     "data": {
      "text/plain": [
       "(22, 74)"
      ]
     },
     "execution_count": 64,
     "metadata": {
      "tags": []
     },
     "output_type": "execute_result"
    }
   ],
   "source": [
    "dtm.shape"
   ]
  },
  {
   "cell_type": "code",
   "execution_count": 65,
   "metadata": {
    "colab": {
     "base_uri": "https://localhost:8080/",
     "height": 35
    },
    "colab_type": "code",
    "id": "xwz5Z2Lj4_ES",
    "outputId": "db6c85a8-9fba-4908-de7b-0c2c0e06c010"
   },
   "outputs": [
    {
     "data": {
      "text/plain": [
       "22"
      ]
     },
     "execution_count": 65,
     "metadata": {
      "tags": []
     },
     "output_type": "execute_result"
    }
   ],
   "source": [
    "len(df)"
   ]
  },
  {
   "cell_type": "code",
   "execution_count": 0,
   "metadata": {
    "colab": {},
    "colab_type": "code",
    "id": "sU7ppgeS5B97"
   },
   "outputs": [],
   "source": [
    "topic_results = LDA.transform(dtm)"
   ]
  },
  {
   "cell_type": "code",
   "execution_count": 0,
   "metadata": {
    "colab": {},
    "colab_type": "code",
    "id": "0k-FQynv5JLy"
   },
   "outputs": [],
   "source": [
    "df['Topic'] = topic_results.argmax(axis=1)"
   ]
  },
  {
   "cell_type": "code",
   "execution_count": 68,
   "metadata": {
    "colab": {
     "base_uri": "https://localhost:8080/",
     "height": 739
    },
    "colab_type": "code",
    "id": "CALCiELH5QWK",
    "outputId": "d3bdd323-7a14-4374-ac15-2ad0724dec32"
   },
   "outputs": [
    {
     "data": {
      "text/html": [
       "<div>\n",
       "<style scoped>\n",
       "    .dataframe tbody tr th:only-of-type {\n",
       "        vertical-align: middle;\n",
       "    }\n",
       "\n",
       "    .dataframe tbody tr th {\n",
       "        vertical-align: top;\n",
       "    }\n",
       "\n",
       "    .dataframe thead th {\n",
       "        text-align: right;\n",
       "    }\n",
       "</style>\n",
       "<table border=\"1\" class=\"dataframe\">\n",
       "  <thead>\n",
       "    <tr style=\"text-align: right;\">\n",
       "      <th></th>\n",
       "      <th>text</th>\n",
       "      <th>Topic</th>\n",
       "    </tr>\n",
       "  </thead>\n",
       "  <tbody>\n",
       "    <tr>\n",
       "      <th>0</th>\n",
       "      <td>INTRODUCTION The Regional European Standard fo...</td>\n",
       "      <td>1</td>\n",
       "    </tr>\n",
       "    <tr>\n",
       "      <th>1</th>\n",
       "      <td>CODEX STANDARD FOR MAYONNAISE Regional Europea...</td>\n",
       "      <td>1</td>\n",
       "    </tr>\n",
       "    <tr>\n",
       "      <th>2</th>\n",
       "      <td>DESCRIPTION Mayonnaise is a condiment sauce ob...</td>\n",
       "      <td>1</td>\n",
       "    </tr>\n",
       "    <tr>\n",
       "      <th>3</th>\n",
       "      <td>Mayonnaise may contain optional ingredients in...</td>\n",
       "      <td>0</td>\n",
       "    </tr>\n",
       "    <tr>\n",
       "      <th>4</th>\n",
       "      <td>Water shall be of potable quality.</td>\n",
       "      <td>0</td>\n",
       "    </tr>\n",
       "    <tr>\n",
       "      <th>5</th>\n",
       "      <td>Raw materials shall comply with the requiremen...</td>\n",
       "      <td>1</td>\n",
       "    </tr>\n",
       "    <tr>\n",
       "      <th>6</th>\n",
       "      <td>Raw materials shall be stored treated and hand...</td>\n",
       "      <td>1</td>\n",
       "    </tr>\n",
       "    <tr>\n",
       "      <th>7</th>\n",
       "      <td>Eggs and egg products shall be hens eggs or he...</td>\n",
       "      <td>1</td>\n",
       "    </tr>\n",
       "    <tr>\n",
       "      <th>8</th>\n",
       "      <td>Compositional Requirements Total fat content: ...</td>\n",
       "      <td>1</td>\n",
       "    </tr>\n",
       "    <tr>\n",
       "      <th>9</th>\n",
       "      <td>Optional Ingredients Food ingredients intended...</td>\n",
       "      <td>0</td>\n",
       "    </tr>\n",
       "    <tr>\n",
       "      <th>10</th>\n",
       "      <td>Temporarily endorsed.Butylated hydroxytoluene ...</td>\n",
       "      <td>0</td>\n",
       "    </tr>\n",
       "    <tr>\n",
       "      <th>11</th>\n",
       "      <td>in combination in all Beta-carotene synthetic ...</td>\n",
       "      <td>0</td>\n",
       "    </tr>\n",
       "    <tr>\n",
       "      <th>12</th>\n",
       "      <td>Limited by GMP Flavour Enhancers Monosodium gl...</td>\n",
       "      <td>0</td>\n",
       "    </tr>\n",
       "    <tr>\n",
       "      <th>13</th>\n",
       "      <td>It is recommended that the products covered by...</td>\n",
       "      <td>1</td>\n",
       "    </tr>\n",
       "    <tr>\n",
       "      <th>14</th>\n",
       "      <td>Codex Alimentarius Volume and the Recommended ...</td>\n",
       "      <td>1</td>\n",
       "    </tr>\n",
       "    <tr>\n",
       "      <th>15</th>\n",
       "      <td>PACKAGING The product shall be packed in conta...</td>\n",
       "      <td>0</td>\n",
       "    </tr>\n",
       "    <tr>\n",
       "      <th>16</th>\n",
       "      <td>LABELLING In addition to the provisions of the...</td>\n",
       "      <td>1</td>\n",
       "    </tr>\n",
       "    <tr>\n",
       "      <th>17</th>\n",
       "      <td>Codex Alimentarius Volume the following specif...</td>\n",
       "      <td>1</td>\n",
       "    </tr>\n",
       "    <tr>\n",
       "      <th>18</th>\n",
       "      <td>Where an ingredient has been added which impar...</td>\n",
       "      <td>0</td>\n",
       "    </tr>\n",
       "    <tr>\n",
       "      <th>19</th>\n",
       "      <td>Labelling of Non-Retail Containers Information...</td>\n",
       "      <td>1</td>\n",
       "    </tr>\n",
       "    <tr>\n",
       "      <th>20</th>\n",
       "      <td>However lot identification and the name and ad...</td>\n",
       "      <td>1</td>\n",
       "    </tr>\n",
       "    <tr>\n",
       "      <th>21</th>\n",
       "      <td>METHODS OF ANALYSIS AND SAMPLINGSee Codex Alim...</td>\n",
       "      <td>1</td>\n",
       "    </tr>\n",
       "  </tbody>\n",
       "</table>\n",
       "</div>"
      ],
      "text/plain": [
       "                                                 text  Topic\n",
       "0   INTRODUCTION The Regional European Standard fo...      1\n",
       "1   CODEX STANDARD FOR MAYONNAISE Regional Europea...      1\n",
       "2   DESCRIPTION Mayonnaise is a condiment sauce ob...      1\n",
       "3   Mayonnaise may contain optional ingredients in...      0\n",
       "4                  Water shall be of potable quality.      0\n",
       "5   Raw materials shall comply with the requiremen...      1\n",
       "6   Raw materials shall be stored treated and hand...      1\n",
       "7   Eggs and egg products shall be hens eggs or he...      1\n",
       "8   Compositional Requirements Total fat content: ...      1\n",
       "9   Optional Ingredients Food ingredients intended...      0\n",
       "10  Temporarily endorsed.Butylated hydroxytoluene ...      0\n",
       "11  in combination in all Beta-carotene synthetic ...      0\n",
       "12  Limited by GMP Flavour Enhancers Monosodium gl...      0\n",
       "13  It is recommended that the products covered by...      1\n",
       "14  Codex Alimentarius Volume and the Recommended ...      1\n",
       "15  PACKAGING The product shall be packed in conta...      0\n",
       "16  LABELLING In addition to the provisions of the...      1\n",
       "17  Codex Alimentarius Volume the following specif...      1\n",
       "18  Where an ingredient has been added which impar...      0\n",
       "19  Labelling of Non-Retail Containers Information...      1\n",
       "20  However lot identification and the name and ad...      1\n",
       "21  METHODS OF ANALYSIS AND SAMPLINGSee Codex Alim...      1"
      ]
     },
     "execution_count": 68,
     "metadata": {
      "tags": []
     },
     "output_type": "execute_result"
    }
   ],
   "source": [
    "df"
   ]
  },
  {
   "cell_type": "code",
   "execution_count": 0,
   "metadata": {
    "colab": {},
    "colab_type": "code",
    "id": "_39F8Rga5jL6"
   },
   "outputs": [],
   "source": [
    "df.to_csv('drive/My Drive/sample_1.csv')"
   ]
  },
  {
   "cell_type": "code",
   "execution_count": 0,
   "metadata": {
    "colab": {},
    "colab_type": "code",
    "id": "RECXhOP0JsoC"
   },
   "outputs": [],
   "source": []
  }
 ],
 "metadata": {
  "colab": {
   "name": "Sample_1.ipynb",
   "provenance": [],
   "version": "0.3.2"
  },
  "kernelspec": {
   "display_name": "Python 3",
   "language": "python",
   "name": "python3"
  },
  "language_info": {
   "codemirror_mode": {
    "name": "ipython",
    "version": 3
   },
   "file_extension": ".py",
   "mimetype": "text/x-python",
   "name": "python",
   "nbconvert_exporter": "python",
   "pygments_lexer": "ipython3",
   "version": "3.7.0"
  }
 },
 "nbformat": 4,
 "nbformat_minor": 1
}
